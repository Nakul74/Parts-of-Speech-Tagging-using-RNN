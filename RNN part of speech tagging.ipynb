{
 "cells": [
  {
   "cell_type": "code",
   "execution_count": 1,
   "metadata": {
    "colab": {
     "base_uri": "https://localhost:8080/"
    },
    "executionInfo": {
     "elapsed": 1466,
     "status": "ok",
     "timestamp": 1623745347088,
     "user": {
      "displayName": "Nakul Chamariya",
      "photoUrl": "https://lh3.googleusercontent.com/a-/AOh14GiaaA3CEhDPpMN9iKjN0cdb6HXS25MHPJCRZ9y5WA=s64",
      "userId": "14936028262101279399"
     },
     "user_tz": -330
    },
    "id": "8BFVCZxwR4UQ",
    "outputId": "02dca4cf-a837-4d2c-917e-7396bfd4761e"
   },
   "outputs": [
    {
     "name": "stdout",
     "output_type": "stream",
     "text": [
      "Tue Jun 15 08:22:25 2021       \n",
      "+-----------------------------------------------------------------------------+\n",
      "| NVIDIA-SMI 465.27       Driver Version: 460.32.03    CUDA Version: 11.2     |\n",
      "|-------------------------------+----------------------+----------------------+\n",
      "| GPU  Name        Persistence-M| Bus-Id        Disp.A | Volatile Uncorr. ECC |\n",
      "| Fan  Temp  Perf  Pwr:Usage/Cap|         Memory-Usage | GPU-Util  Compute M. |\n",
      "|                               |                      |               MIG M. |\n",
      "|===============================+======================+======================|\n",
      "|   0  Tesla T4            Off  | 00000000:00:04.0 Off |                    0 |\n",
      "| N/A   52C    P8    10W /  70W |      0MiB / 15109MiB |      0%      Default |\n",
      "|                               |                      |                  N/A |\n",
      "+-------------------------------+----------------------+----------------------+\n",
      "                                                                               \n",
      "+-----------------------------------------------------------------------------+\n",
      "| Processes:                                                                  |\n",
      "|  GPU   GI   CI        PID   Type   Process name                  GPU Memory |\n",
      "|        ID   ID                                                   Usage      |\n",
      "|=============================================================================|\n",
      "|  No running processes found                                                 |\n",
      "+-----------------------------------------------------------------------------+\n"
     ]
    }
   ],
   "source": [
    "!nvidia-smi"
   ]
  },
  {
   "cell_type": "code",
   "execution_count": 2,
   "metadata": {
    "colab": {
     "base_uri": "https://localhost:8080/"
    },
    "executionInfo": {
     "elapsed": 32260,
     "status": "ok",
     "timestamp": 1623745382717,
     "user": {
      "displayName": "Nakul Chamariya",
      "photoUrl": "https://lh3.googleusercontent.com/a-/AOh14GiaaA3CEhDPpMN9iKjN0cdb6HXS25MHPJCRZ9y5WA=s64",
      "userId": "14936028262101279399"
     },
     "user_tz": -330
    },
    "id": "uZ7bFgpBXoYh",
    "outputId": "e2282e4f-6151-4d44-fc54-284409beb99b"
   },
   "outputs": [
    {
     "name": "stdout",
     "output_type": "stream",
     "text": [
      "Mounted at /content/drive\n"
     ]
    }
   ],
   "source": [
    "from google.colab import drive\n",
    "drive.mount('/content/drive')"
   ]
  },
  {
   "cell_type": "code",
   "execution_count": 56,
   "metadata": {
    "colab": {
     "base_uri": "https://localhost:8080/"
    },
    "executionInfo": {
     "elapsed": 469,
     "status": "ok",
     "timestamp": 1623749981821,
     "user": {
      "displayName": "Nakul Chamariya",
      "photoUrl": "https://lh3.googleusercontent.com/a-/AOh14GiaaA3CEhDPpMN9iKjN0cdb6HXS25MHPJCRZ9y5WA=s64",
      "userId": "14936028262101279399"
     },
     "user_tz": -330
    },
    "id": "I3gdr5-_nSal",
    "outputId": "7783752e-f4a3-4061-9906-cb9837f5aabe"
   },
   "outputs": [
    {
     "name": "stdout",
     "output_type": "stream",
     "text": [
      "[nltk_data] Downloading package brown to /root/nltk_data...\n",
      "[nltk_data]   Package brown is already up-to-date!\n",
      "[nltk_data] Downloading package treebank to /root/nltk_data...\n",
      "[nltk_data]   Package treebank is already up-to-date!\n",
      "[nltk_data] Downloading package conll2000 to /root/nltk_data...\n",
      "[nltk_data]   Package conll2000 is already up-to-date!\n",
      "[nltk_data] Downloading package universal_tagset to /root/nltk_data...\n",
      "[nltk_data]   Package universal_tagset is already up-to-date!\n"
     ]
    },
    {
     "data": {
      "text/plain": [
       "True"
      ]
     },
     "execution_count": 56,
     "metadata": {
      "tags": []
     },
     "output_type": "execute_result"
    }
   ],
   "source": [
    "import nltk\n",
    "nltk.download('brown')\n",
    "nltk.download('treebank')\n",
    "nltk.download('conll2000')\n",
    "nltk.download('universal_tagset')"
   ]
  },
  {
   "cell_type": "code",
   "execution_count": 57,
   "metadata": {
    "executionInfo": {
     "elapsed": 5,
     "status": "ok",
     "timestamp": 1623749982287,
     "user": {
      "displayName": "Nakul Chamariya",
      "photoUrl": "https://lh3.googleusercontent.com/a-/AOh14GiaaA3CEhDPpMN9iKjN0cdb6HXS25MHPJCRZ9y5WA=s64",
      "userId": "14936028262101279399"
     },
     "user_tz": -330
    },
    "id": "QU1QQE4jmWxO"
   },
   "outputs": [],
   "source": [
    "from nltk.corpus import brown\n",
    "from nltk.corpus import treebank\n",
    "from nltk.corpus import conll2000\n",
    "\n",
    "corpus_1 = brown.tagged_sents(tagset = 'universal')\n",
    "corpus_2 = treebank.tagged_sents(tagset = 'universal')\n",
    "corpus_3 = conll2000.tagged_sents(tagset = 'universal')\n",
    "\n",
    "data = corpus_1 + corpus_2 + corpus_3 "
   ]
  },
  {
   "cell_type": "code",
   "execution_count": 58,
   "metadata": {
    "colab": {
     "base_uri": "https://localhost:8080/"
    },
    "executionInfo": {
     "elapsed": 7451,
     "status": "ok",
     "timestamp": 1623749989734,
     "user": {
      "displayName": "Nakul Chamariya",
      "photoUrl": "https://lh3.googleusercontent.com/a-/AOh14GiaaA3CEhDPpMN9iKjN0cdb6HXS25MHPJCRZ9y5WA=s64",
      "userId": "14936028262101279399"
     },
     "user_tz": -330
    },
    "id": "VBHhuahxnZpC",
    "outputId": "f2a1d965-e18b-4257-a8bb-7f1c174eccc9"
   },
   "outputs": [
    {
     "data": {
      "text/plain": [
       "[('It', 'PRON'),\n",
       " ('urged', 'VERB'),\n",
       " ('that', 'ADP'),\n",
       " ('the', 'DET'),\n",
       " ('city', 'NOUN'),\n",
       " ('``', '.'),\n",
       " ('take', 'VERB'),\n",
       " ('steps', 'NOUN'),\n",
       " ('to', 'PRT'),\n",
       " ('remedy', 'VERB')]"
      ]
     },
     "execution_count": 58,
     "metadata": {
      "tags": []
     },
     "output_type": "execute_result"
    }
   ],
   "source": [
    "data[10][:10]"
   ]
  },
  {
   "cell_type": "code",
   "execution_count": 59,
   "metadata": {
    "executionInfo": {
     "elapsed": 6073,
     "status": "ok",
     "timestamp": 1623749995801,
     "user": {
      "displayName": "Nakul Chamariya",
      "photoUrl": "https://lh3.googleusercontent.com/a-/AOh14GiaaA3CEhDPpMN9iKjN0cdb6HXS25MHPJCRZ9y5WA=s64",
      "userId": "14936028262101279399"
     },
     "user_tz": -330
    },
    "id": "8tU9c5T_ntqV"
   },
   "outputs": [],
   "source": [
    "X = []\n",
    "y = []\n",
    "\n",
    "for sent in data:\n",
    "  X_sent = []\n",
    "  y_sent = []\n",
    "  \n",
    "  for val in sent:\n",
    "    X_sent.append(val[0])\n",
    "    y_sent.append(val[1])\n",
    "\n",
    "  X.append(X_sent)\n",
    "  y.append(y_sent)"
   ]
  },
  {
   "cell_type": "code",
   "execution_count": 60,
   "metadata": {
    "colab": {
     "base_uri": "https://localhost:8080/"
    },
    "executionInfo": {
     "elapsed": 14,
     "status": "ok",
     "timestamp": 1623749995806,
     "user": {
      "displayName": "Nakul Chamariya",
      "photoUrl": "https://lh3.googleusercontent.com/a-/AOh14GiaaA3CEhDPpMN9iKjN0cdb6HXS25MHPJCRZ9y5WA=s64",
      "userId": "14936028262101279399"
     },
     "user_tz": -330
    },
    "id": "V2w-iGGYpGjn",
    "outputId": "076887c7-972a-4ce8-f9de-40f5c132219e"
   },
   "outputs": [
    {
     "name": "stdout",
     "output_type": "stream",
     "text": [
      "72202\n",
      "72202\n"
     ]
    }
   ],
   "source": [
    "print(len(X))\n",
    "print(len(y))"
   ]
  },
  {
   "cell_type": "code",
   "execution_count": 61,
   "metadata": {
    "colab": {
     "base_uri": "https://localhost:8080/"
    },
    "executionInfo": {
     "elapsed": 13,
     "status": "ok",
     "timestamp": 1623749995807,
     "user": {
      "displayName": "Nakul Chamariya",
      "photoUrl": "https://lh3.googleusercontent.com/a-/AOh14GiaaA3CEhDPpMN9iKjN0cdb6HXS25MHPJCRZ9y5WA=s64",
      "userId": "14936028262101279399"
     },
     "user_tz": -330
    },
    "id": "h9Zt-NPqntv6",
    "outputId": "a53da4a4-5bb0-4b13-9a19-562a65741269"
   },
   "outputs": [
    {
     "name": "stdout",
     "output_type": "stream",
     "text": [
      "['The', 'September-October', 'term', 'jury', 'had', 'been', 'charged', 'by', 'Fulton', 'Superior', 'Court', 'Judge', 'Durwood', 'Pye', 'to', 'investigate', 'reports', 'of', 'possible', '``', 'irregularities', \"''\", 'in', 'the', 'hard-fought', 'primary', 'which', 'was', 'won', 'by', 'Mayor-nominate', 'Ivan', 'Allen', 'Jr.', '.']\n",
      "35\n",
      "\n",
      "['DET', 'NOUN', 'NOUN', 'NOUN', 'VERB', 'VERB', 'VERB', 'ADP', 'NOUN', 'ADJ', 'NOUN', 'NOUN', 'NOUN', 'NOUN', 'PRT', 'VERB', 'NOUN', 'ADP', 'ADJ', '.', 'NOUN', '.', 'ADP', 'DET', 'ADJ', 'NOUN', 'DET', 'VERB', 'VERB', 'ADP', 'NOUN', 'NOUN', 'NOUN', 'NOUN', '.']\n",
      "35\n"
     ]
    }
   ],
   "source": [
    "num = 2\n",
    "\n",
    "print(X[num])\n",
    "print(len(X[num]))\n",
    "print()\n",
    "print(y[num])\n",
    "print(len(y[num]))"
   ]
  },
  {
   "cell_type": "code",
   "execution_count": 62,
   "metadata": {
    "colab": {
     "base_uri": "https://localhost:8080/"
    },
    "executionInfo": {
     "elapsed": 11,
     "status": "ok",
     "timestamp": 1623749995808,
     "user": {
      "displayName": "Nakul Chamariya",
      "photoUrl": "https://lh3.googleusercontent.com/a-/AOh14GiaaA3CEhDPpMN9iKjN0cdb6HXS25MHPJCRZ9y5WA=s64",
      "userId": "14936028262101279399"
     },
     "user_tz": -330
    },
    "id": "WgkTOxv9o5Xr",
    "outputId": "cf3c128d-1f92-41b0-a846-bcc98b052c30"
   },
   "outputs": [
    {
     "name": "stdout",
     "output_type": "stream",
     "text": [
      "True\n"
     ]
    }
   ],
   "source": [
    "#checkig if x and y are of same length for each sentence\n",
    "var = True\n",
    "for i in range(len(X)):\n",
    "  if len(X[i]) != len(y[i]):\n",
    "    var = False\n",
    "    break\n",
    "\n",
    "print(var)"
   ]
  },
  {
   "cell_type": "code",
   "execution_count": 63,
   "metadata": {
    "executionInfo": {
     "elapsed": 615,
     "status": "ok",
     "timestamp": 1623749996415,
     "user": {
      "displayName": "Nakul Chamariya",
      "photoUrl": "https://lh3.googleusercontent.com/a-/AOh14GiaaA3CEhDPpMN9iKjN0cdb6HXS25MHPJCRZ9y5WA=s64",
      "userId": "14936028262101279399"
     },
     "user_tz": -330
    },
    "id": "XZOH6Cq7ph0s"
   },
   "outputs": [],
   "source": [
    "#check total no of usinque tages and words\n",
    "num_words = len(set([word.lower() for sent in X for word in sent]))\n",
    "num_tags = len(set([word.lower() for sent in y for word in sent]))"
   ]
  },
  {
   "cell_type": "code",
   "execution_count": 64,
   "metadata": {
    "colab": {
     "base_uri": "https://localhost:8080/"
    },
    "executionInfo": {
     "elapsed": 10,
     "status": "ok",
     "timestamp": 1623749996416,
     "user": {
      "displayName": "Nakul Chamariya",
      "photoUrl": "https://lh3.googleusercontent.com/a-/AOh14GiaaA3CEhDPpMN9iKjN0cdb6HXS25MHPJCRZ9y5WA=s64",
      "userId": "14936028262101279399"
     },
     "user_tz": -330
    },
    "id": "wYTt0GOrph3g",
    "outputId": "67ef9f53-5af2-4c6c-f7f1-0037c7bb2a3c"
   },
   "outputs": [
    {
     "name": "stdout",
     "output_type": "stream",
     "text": [
      "Total unique words : 59448\n",
      "Total unique tags : 12\n"
     ]
    }
   ],
   "source": [
    "print('Total unique words :',num_words)\n",
    "print('Total unique tags :',num_tags)"
   ]
  },
  {
   "cell_type": "code",
   "execution_count": 65,
   "metadata": {
    "executionInfo": {
     "elapsed": 8,
     "status": "ok",
     "timestamp": 1623749996416,
     "user": {
      "displayName": "Nakul Chamariya",
      "photoUrl": "https://lh3.googleusercontent.com/a-/AOh14GiaaA3CEhDPpMN9iKjN0cdb6HXS25MHPJCRZ9y5WA=s64",
      "userId": "14936028262101279399"
     },
     "user_tz": -330
    },
    "id": "UB9ohpkOqlOj"
   },
   "outputs": [],
   "source": [
    "from sklearn.model_selection import train_test_split\n",
    "X_train,X_test,y_train,y_test=train_test_split(X, y, test_size=0.25, random_state=101)"
   ]
  },
  {
   "cell_type": "code",
   "execution_count": 66,
   "metadata": {
    "colab": {
     "base_uri": "https://localhost:8080/"
    },
    "executionInfo": {
     "elapsed": 8,
     "status": "ok",
     "timestamp": 1623749996417,
     "user": {
      "displayName": "Nakul Chamariya",
      "photoUrl": "https://lh3.googleusercontent.com/a-/AOh14GiaaA3CEhDPpMN9iKjN0cdb6HXS25MHPJCRZ9y5WA=s64",
      "userId": "14936028262101279399"
     },
     "user_tz": -330
    },
    "id": "t_Sx4HEdrdew",
    "outputId": "06afbdc4-18ea-449e-e895-4df14d8b0126"
   },
   "outputs": [
    {
     "name": "stdout",
     "output_type": "stream",
     "text": [
      "2.5.0\n"
     ]
    }
   ],
   "source": [
    "import tensorflow as tf\n",
    "print(tf.__version__)"
   ]
  },
  {
   "cell_type": "code",
   "execution_count": 67,
   "metadata": {
    "executionInfo": {
     "elapsed": 2066,
     "status": "ok",
     "timestamp": 1623749998479,
     "user": {
      "displayName": "Nakul Chamariya",
      "photoUrl": "https://lh3.googleusercontent.com/a-/AOh14GiaaA3CEhDPpMN9iKjN0cdb6HXS25MHPJCRZ9y5WA=s64",
      "userId": "14936028262101279399"
     },
     "user_tz": -330
    },
    "id": "jjqXjRD_ph6l"
   },
   "outputs": [],
   "source": [
    "from tensorflow.keras.preprocessing.text import Tokenizer\n",
    "\n",
    "word_tokenizer = tf.keras.preprocessing.text.Tokenizer(\n",
    "    num_words=None,\n",
    "    filters='!\"#$%&()*+,-./:;<=>?@[\\\\]^_`{|}~\\t\\n',\n",
    "    lower=True, split=' ', char_level=False, oov_token=\"<OOV>\"\n",
    ")\n",
    "\n",
    "word_tokenizer.fit_on_texts(X_train)\n",
    "\n",
    "train_text = word_tokenizer.texts_to_sequences(X_train)\n",
    "test_text = word_tokenizer.texts_to_sequences(X_test)"
   ]
  },
  {
   "cell_type": "code",
   "execution_count": 68,
   "metadata": {
    "executionInfo": {
     "elapsed": 1259,
     "status": "ok",
     "timestamp": 1623749999735,
     "user": {
      "displayName": "Nakul Chamariya",
      "photoUrl": "https://lh3.googleusercontent.com/a-/AOh14GiaaA3CEhDPpMN9iKjN0cdb6HXS25MHPJCRZ9y5WA=s64",
      "userId": "14936028262101279399"
     },
     "user_tz": -330
    },
    "id": "7QRQU_xOr793"
   },
   "outputs": [],
   "source": [
    "tag_tokenizer = tf.keras.preprocessing.text.Tokenizer(\n",
    "    num_words=None,\n",
    "    filters='',\n",
    "    lower=True, split=' ', char_level=False, oov_token=None\n",
    ")\n",
    "\n",
    "tag_tokenizer.fit_on_texts(y_train)\n",
    "\n",
    "train_label = tag_tokenizer.texts_to_sequences(y_train)\n",
    "test_label = tag_tokenizer.texts_to_sequences(y_test)"
   ]
  },
  {
   "cell_type": "code",
   "execution_count": 69,
   "metadata": {
    "colab": {
     "base_uri": "https://localhost:8080/"
    },
    "executionInfo": {
     "elapsed": 22,
     "status": "ok",
     "timestamp": 1623749999736,
     "user": {
      "displayName": "Nakul Chamariya",
      "photoUrl": "https://lh3.googleusercontent.com/a-/AOh14GiaaA3CEhDPpMN9iKjN0cdb6HXS25MHPJCRZ9y5WA=s64",
      "userId": "14936028262101279399"
     },
     "user_tz": -330
    },
    "id": "woZBfCdiZtkI",
    "outputId": "ea4e0b1a-7382-4286-cf9e-6b5794afddf1"
   },
   "outputs": [
    {
     "data": {
      "text/plain": [
       "{'.': 3,\n",
       " 'adj': 6,\n",
       " 'adp': 4,\n",
       " 'adv': 7,\n",
       " 'conj': 9,\n",
       " 'det': 5,\n",
       " 'noun': 1,\n",
       " 'num': 11,\n",
       " 'pron': 8,\n",
       " 'prt': 10,\n",
       " 'verb': 2,\n",
       " 'x': 12}"
      ]
     },
     "execution_count": 69,
     "metadata": {
      "tags": []
     },
     "output_type": "execute_result"
    }
   ],
   "source": [
    "tag_tokenizer.word_index"
   ]
  },
  {
   "cell_type": "code",
   "execution_count": 70,
   "metadata": {
    "colab": {
     "base_uri": "https://localhost:8080/"
    },
    "executionInfo": {
     "elapsed": 21,
     "status": "ok",
     "timestamp": 1623749999737,
     "user": {
      "displayName": "Nakul Chamariya",
      "photoUrl": "https://lh3.googleusercontent.com/a-/AOh14GiaaA3CEhDPpMN9iKjN0cdb6HXS25MHPJCRZ9y5WA=s64",
      "userId": "14936028262101279399"
     },
     "user_tz": -330
    },
    "id": "FEnlNt_cr8Ba",
    "outputId": "94fdcf69-aa8b-4159-c667-0e8352607799"
   },
   "outputs": [
    {
     "name": "stdout",
     "output_type": "stream",
     "text": [
      "['But', 'white', 'wines', 'never', '!', '!']\n",
      "['CONJ', 'ADJ', 'NOUN', 'ADV', '.', '.']\n"
     ]
    }
   ],
   "source": [
    "print(X_train[0])\n",
    "print(y_train[0])"
   ]
  },
  {
   "cell_type": "code",
   "execution_count": 71,
   "metadata": {
    "colab": {
     "base_uri": "https://localhost:8080/"
    },
    "executionInfo": {
     "elapsed": 17,
     "status": "ok",
     "timestamp": 1623749999737,
     "user": {
      "displayName": "Nakul Chamariya",
      "photoUrl": "https://lh3.googleusercontent.com/a-/AOh14GiaaA3CEhDPpMN9iKjN0cdb6HXS25MHPJCRZ9y5WA=s64",
      "userId": "14936028262101279399"
     },
     "user_tz": -330
    },
    "id": "9EWX0LB0r8EI",
    "outputId": "47478fa6-9069-4d02-bf36-29150f9b96b6"
   },
   "outputs": [
    {
     "name": "stdout",
     "output_type": "stream",
     "text": [
      "[31, 280, 3963, 172, 94, 94]\n",
      "[9, 6, 1, 7, 3, 3]\n"
     ]
    }
   ],
   "source": [
    "print(train_text[0])\n",
    "print(train_label[0])"
   ]
  },
  {
   "cell_type": "code",
   "execution_count": 72,
   "metadata": {
    "colab": {
     "base_uri": "https://localhost:8080/"
    },
    "executionInfo": {
     "elapsed": 15,
     "status": "ok",
     "timestamp": 1623749999738,
     "user": {
      "displayName": "Nakul Chamariya",
      "photoUrl": "https://lh3.googleusercontent.com/a-/AOh14GiaaA3CEhDPpMN9iKjN0cdb6HXS25MHPJCRZ9y5WA=s64",
      "userId": "14936028262101279399"
     },
     "user_tz": -330
    },
    "id": "1uZotwZcr8G1",
    "outputId": "08534009-90b4-4e93-c5d9-a2def4fcd117"
   },
   "outputs": [
    {
     "name": "stdout",
     "output_type": "stream",
     "text": [
      "True\n",
      "True\n"
     ]
    }
   ],
   "source": [
    "#checkig if x and y are of same length for each sentence\n",
    "var = True\n",
    "for i in range(len(train_text)):\n",
    "  if len(train_text[i]) != len(train_label[i]):\n",
    "    var = False\n",
    "    break\n",
    "\n",
    "print(var)\n",
    "\n",
    "#checkig if x and y are of same length for each sentence\n",
    "var = True\n",
    "for i in range(len(test_text)):\n",
    "  if len(test_text[i]) != len(test_label[i]):\n",
    "    var = False\n",
    "    break\n",
    "\n",
    "print(var)"
   ]
  },
  {
   "cell_type": "code",
   "execution_count": 73,
   "metadata": {
    "colab": {
     "base_uri": "https://localhost:8080/"
    },
    "executionInfo": {
     "elapsed": 15,
     "status": "ok",
     "timestamp": 1623749999741,
     "user": {
      "displayName": "Nakul Chamariya",
      "photoUrl": "https://lh3.googleusercontent.com/a-/AOh14GiaaA3CEhDPpMN9iKjN0cdb6HXS25MHPJCRZ9y5WA=s64",
      "userId": "14936028262101279399"
     },
     "user_tz": -330
    },
    "id": "HHDxvxF5tQkg",
    "outputId": "42534733-8698-44da-d2ce-6636d35910a0"
   },
   "outputs": [
    {
     "name": "stdout",
     "output_type": "stream",
     "text": [
      "Longest sentence length =  180\n"
     ]
    }
   ],
   "source": [
    "lengths = [len(seq) for seq in train_text]\n",
    "print('Longest sentence length = ',max(lengths))"
   ]
  },
  {
   "cell_type": "code",
   "execution_count": 74,
   "metadata": {
    "colab": {
     "base_uri": "https://localhost:8080/",
     "height": 265
    },
    "executionInfo": {
     "elapsed": 13,
     "status": "ok",
     "timestamp": 1623749999742,
     "user": {
      "displayName": "Nakul Chamariya",
      "photoUrl": "https://lh3.googleusercontent.com/a-/AOh14GiaaA3CEhDPpMN9iKjN0cdb6HXS25MHPJCRZ9y5WA=s64",
      "userId": "14936028262101279399"
     },
     "user_tz": -330
    },
    "id": "YDyDo-IptQoX",
    "outputId": "1ed4b7f3-3936-4913-ea19-15856f3843ea"
   },
   "outputs": [
    {
     "data": {
      "image/png": "[encoded data removed]",
      "text/plain": [
       "<Figure size 432x288 with 1 Axes>"
      ]
     },
     "metadata": {
      "needs_background": "light",
      "tags": []
     },
     "output_type": "display_data"
    }
   ],
   "source": [
    "import matplotlib.pyplot as plt\n",
    "import seaborn as sns\n",
    "\n",
    "sns.boxplot(lengths)\n",
    "plt.show()"
   ]
  },
  {
   "cell_type": "code",
   "execution_count": 75,
   "metadata": {
    "executionInfo": {
     "elapsed": 944,
     "status": "ok",
     "timestamp": 1623750000675,
     "user": {
      "displayName": "Nakul Chamariya",
      "photoUrl": "https://lh3.googleusercontent.com/a-/AOh14GiaaA3CEhDPpMN9iKjN0cdb6HXS25MHPJCRZ9y5WA=s64",
      "userId": "14936028262101279399"
     },
     "user_tz": -330
    },
    "id": "qrzo1mCts-lX"
   },
   "outputs": [],
   "source": [
    "from tensorflow.keras.preprocessing.sequence import pad_sequences\n",
    "\n",
    "max_len = 125\n",
    "\n",
    "X_train = tf.keras.preprocessing.sequence.pad_sequences(\n",
    "    train_text, maxlen = max_len, padding = 'pre',\n",
    "    truncating='post', value=0.0\n",
    ")\n",
    "\n",
    "X_test = tf.keras.preprocessing.sequence.pad_sequences(\n",
    "    test_text, maxlen = X_train.shape[1], dtype = 'int32', padding='pre',\n",
    "    truncating='post', value=0.0\n",
    ")\n",
    "\n",
    "y_train = tf.keras.preprocessing.sequence.pad_sequences(\n",
    "    train_label, maxlen = max_len, padding = 'pre',\n",
    "    truncating='post', value=0.0\n",
    ")\n",
    "\n",
    "y_test = tf.keras.preprocessing.sequence.pad_sequences(\n",
    "    test_label, maxlen = y_train.shape[1], dtype = 'int32', padding='pre',\n",
    "    truncating='post', value=0.0\n",
    ")\n"
   ]
  },
  {
   "cell_type": "code",
   "execution_count": 76,
   "metadata": {
    "colab": {
     "base_uri": "https://localhost:8080/"
    },
    "executionInfo": {
     "elapsed": 9,
     "status": "ok",
     "timestamp": 1623750000676,
     "user": {
      "displayName": "Nakul Chamariya",
      "photoUrl": "https://lh3.googleusercontent.com/a-/AOh14GiaaA3CEhDPpMN9iKjN0cdb6HXS25MHPJCRZ9y5WA=s64",
      "userId": "14936028262101279399"
     },
     "user_tz": -330
    },
    "id": "TMRW0KXPs-oo",
    "outputId": "4ce5ca16-fd00-4ca9-aabd-ce86cb73577a"
   },
   "outputs": [
    {
     "data": {
      "text/plain": [
       "((54151, 125), (18051, 125))"
      ]
     },
     "execution_count": 76,
     "metadata": {
      "tags": []
     },
     "output_type": "execute_result"
    }
   ],
   "source": [
    "X_train.shape,X_test.shape"
   ]
  },
  {
   "cell_type": "code",
   "execution_count": 77,
   "metadata": {
    "colab": {
     "base_uri": "https://localhost:8080/"
    },
    "executionInfo": {
     "elapsed": 8,
     "status": "ok",
     "timestamp": 1623750000676,
     "user": {
      "displayName": "Nakul Chamariya",
      "photoUrl": "https://lh3.googleusercontent.com/a-/AOh14GiaaA3CEhDPpMN9iKjN0cdb6HXS25MHPJCRZ9y5WA=s64",
      "userId": "14936028262101279399"
     },
     "user_tz": -330
    },
    "id": "FVk6QJ-js-tA",
    "outputId": "3fdbea05-59b7-42a7-a0f6-a9f2aaafea3b"
   },
   "outputs": [
    {
     "data": {
      "text/plain": [
       "((54151, 125), (18051, 125))"
      ]
     },
     "execution_count": 77,
     "metadata": {
      "tags": []
     },
     "output_type": "execute_result"
    }
   ],
   "source": [
    "y_train.shape,y_test.shape"
   ]
  },
  {
   "cell_type": "code",
   "execution_count": 78,
   "metadata": {
    "colab": {
     "base_uri": "https://localhost:8080/"
    },
    "executionInfo": {
     "elapsed": 2363,
     "status": "ok",
     "timestamp": 1623750003034,
     "user": {
      "displayName": "Nakul Chamariya",
      "photoUrl": "https://lh3.googleusercontent.com/a-/AOh14GiaaA3CEhDPpMN9iKjN0cdb6HXS25MHPJCRZ9y5WA=s64",
      "userId": "14936028262101279399"
     },
     "user_tz": -330
    },
    "id": "gdGKZrEqcIK1",
    "outputId": "8e4791da-2882-4ca6-cd21-e8279abe4b4a"
   },
   "outputs": [
    {
     "name": "stdout",
     "output_type": "stream",
     "text": [
      "Requirement already satisfied: scikit-plot in /usr/local/lib/python3.7/dist-packages (0.3.7)\n",
      "Requirement already satisfied: matplotlib>=1.4.0 in /usr/local/lib/python3.7/dist-packages (from scikit-plot) (3.2.2)\n",
      "Requirement already satisfied: scikit-learn>=0.18 in /usr/local/lib/python3.7/dist-packages (from scikit-plot) (0.22.2.post1)\n",
      "Requirement already satisfied: joblib>=0.10 in /usr/local/lib/python3.7/dist-packages (from scikit-plot) (1.0.1)\n",
      "Requirement already satisfied: scipy>=0.9 in /usr/local/lib/python3.7/dist-packages (from scikit-plot) (1.4.1)\n",
      "Requirement already satisfied: numpy>=1.11 in /usr/local/lib/python3.7/dist-packages (from matplotlib>=1.4.0->scikit-plot) (1.19.5)\n",
      "Requirement already satisfied: pyparsing!=2.0.4,!=2.1.2,!=2.1.6,>=2.0.1 in /usr/local/lib/python3.7/dist-packages (from matplotlib>=1.4.0->scikit-plot) (2.4.7)\n",
      "Requirement already satisfied: python-dateutil>=2.1 in /usr/local/lib/python3.7/dist-packages (from matplotlib>=1.4.0->scikit-plot) (2.8.1)\n",
      "Requirement already satisfied: cycler>=0.10 in /usr/local/lib/python3.7/dist-packages (from matplotlib>=1.4.0->scikit-plot) (0.10.0)\n",
      "Requirement already satisfied: kiwisolver>=1.0.1 in /usr/local/lib/python3.7/dist-packages (from matplotlib>=1.4.0->scikit-plot) (1.3.1)\n",
      "Requirement already satisfied: six>=1.5 in /usr/local/lib/python3.7/dist-packages (from python-dateutil>=2.1->matplotlib>=1.4.0->scikit-plot) (1.15.0)\n"
     ]
    }
   ],
   "source": [
    "!pip install scikit-plot"
   ]
  },
  {
   "cell_type": "code",
   "execution_count": 79,
   "metadata": {
    "executionInfo": {
     "elapsed": 13,
     "status": "ok",
     "timestamp": 1623750003035,
     "user": {
      "displayName": "Nakul Chamariya",
      "photoUrl": "https://lh3.googleusercontent.com/a-/AOh14GiaaA3CEhDPpMN9iKjN0cdb6HXS25MHPJCRZ9y5WA=s64",
      "userId": "14936028262101279399"
     },
     "user_tz": -330
    },
    "id": "9gq2XjjlhWbH"
   },
   "outputs": [],
   "source": [
    "#Importing the required libraries\n",
    "import numpy as np\n",
    "import warnings\n",
    "warnings.filterwarnings(\"ignore\")\n",
    "\n",
    "import scikitplot as skplt\n",
    "from sklearn.metrics import classification_report,confusion_matrix,balanced_accuracy_score,log_loss"
   ]
  },
  {
   "cell_type": "code",
   "execution_count": 80,
   "metadata": {
    "colab": {
     "base_uri": "https://localhost:8080/"
    },
    "executionInfo": {
     "elapsed": 12,
     "status": "ok",
     "timestamp": 1623750003036,
     "user": {
      "displayName": "Nakul Chamariya",
      "photoUrl": "https://lh3.googleusercontent.com/a-/AOh14GiaaA3CEhDPpMN9iKjN0cdb6HXS25MHPJCRZ9y5WA=s64",
      "userId": "14936028262101279399"
     },
     "user_tz": -330
    },
    "id": "-QpVzI-0ZWT3",
    "outputId": "33f34c69-8468-47dc-e8a6-1bedd6615c2d"
   },
   "outputs": [
    {
     "data": {
      "text/plain": [
       "array([ 0,  1,  2,  3,  4,  5,  6,  7,  8,  9, 10, 11, 12], dtype=int32)"
      ]
     },
     "execution_count": 80,
     "metadata": {
      "tags": []
     },
     "output_type": "execute_result"
    }
   ],
   "source": [
    "import numpy as np\n",
    "np.unique(y_test)"
   ]
  },
  {
   "cell_type": "code",
   "execution_count": 28,
   "metadata": {
    "executionInfo": {
     "elapsed": 6,
     "status": "ok",
     "timestamp": 1623745418521,
     "user": {
      "displayName": "Nakul Chamariya",
      "photoUrl": "https://lh3.googleusercontent.com/a-/AOh14GiaaA3CEhDPpMN9iKjN0cdb6HXS25MHPJCRZ9y5WA=s64",
      "userId": "14936028262101279399"
     },
     "user_tz": -330
    },
    "id": "KNXr0Aec8A32"
   },
   "outputs": [],
   "source": [
    "output_vec = 300\n",
    "vocab_size = len(word_tokenizer.word_index) + 1\n",
    "num_classes = max(np.unique(y_train))"
   ]
  },
  {
   "cell_type": "code",
   "execution_count": 29,
   "metadata": {
    "executionInfo": {
     "elapsed": 6184,
     "status": "ok",
     "timestamp": 1623745427115,
     "user": {
      "displayName": "Nakul Chamariya",
      "photoUrl": "https://lh3.googleusercontent.com/a-/AOh14GiaaA3CEhDPpMN9iKjN0cdb6HXS25MHPJCRZ9y5WA=s64",
      "userId": "14936028262101279399"
     },
     "user_tz": -330
    },
    "id": "Pzo8PjnsiYmT"
   },
   "outputs": [],
   "source": [
    "model = tf.keras.Sequential()\n",
    "model.add(tf.keras.layers.Embedding(input_dim = vocab_size,output_dim = output_vec, input_length = max_len, trainable = True)) \n",
    "model.add(tf.keras.layers.LSTM(units = 64, activation=\"tanh\", return_sequences=True, return_state=False)) #dropout=0.2\n",
    "model.add(tf.keras.layers.TimeDistributed(tf.keras.layers.Dense(num_classes+1, activation = tf.nn.softmax, name='output_layer')))"
   ]
  },
  {
   "cell_type": "code",
   "execution_count": 30,
   "metadata": {
    "executionInfo": {
     "elapsed": 22,
     "status": "ok",
     "timestamp": 1623745427116,
     "user": {
      "displayName": "Nakul Chamariya",
      "photoUrl": "https://lh3.googleusercontent.com/a-/AOh14GiaaA3CEhDPpMN9iKjN0cdb6HXS25MHPJCRZ9y5WA=s64",
      "userId": "14936028262101279399"
     },
     "user_tz": -330
    },
    "id": "AZPyjXu6VNyj"
   },
   "outputs": [],
   "source": [
    "# model = tf.keras.Sequential()\n",
    "# model.add(tf.keras.layers.Embedding(input_dim = vocab_size,output_dim = output_vec, input_length = max_len, trainable = True)) \n",
    "# model.add(tf.keras.layers.Bidirectional(tf.keras.layers.LSTM(units = 64, activation=\"tanh\", return_sequences=True, return_state=False))) #dropout=0.2\n",
    "# model.add(tf.keras.layers.TimeDistributed(tf.keras.layers.Dense(5, activation = tf.nn.softmax, name='output_layer')))"
   ]
  },
  {
   "cell_type": "code",
   "execution_count": 31,
   "metadata": {
    "executionInfo": {
     "elapsed": 21,
     "status": "ok",
     "timestamp": 1623745427117,
     "user": {
      "displayName": "Nakul Chamariya",
      "photoUrl": "https://lh3.googleusercontent.com/a-/AOh14GiaaA3CEhDPpMN9iKjN0cdb6HXS25MHPJCRZ9y5WA=s64",
      "userId": "14936028262101279399"
     },
     "user_tz": -330
    },
    "id": "xAH7cFf-VOcF"
   },
   "outputs": [],
   "source": [
    "# model = tf.keras.Sequential()\n",
    "# model.add(tf.keras.layers.Embedding(input_dim = vocab_size,output_dim = output_vec, input_length = max_len, trainable = True)) \n",
    "# model.add(tf.keras.layers.Bidirectional(tf.keras.layers.GRU(units = 64, activation=\"tanh\", return_sequences=True, return_state=False))) #dropout=0.2\n",
    "# model.add(tf.keras.layers.TimeDistributed(tf.keras.layers.Dense(5, activation = tf.nn.softmax, name='output_layer')))"
   ]
  },
  {
   "cell_type": "code",
   "execution_count": 32,
   "metadata": {
    "colab": {
     "base_uri": "https://localhost:8080/",
     "height": 422
    },
    "executionInfo": {
     "elapsed": 22,
     "status": "ok",
     "timestamp": 1623745427118,
     "user": {
      "displayName": "Nakul Chamariya",
      "photoUrl": "https://lh3.googleusercontent.com/a-/AOh14GiaaA3CEhDPpMN9iKjN0cdb6HXS25MHPJCRZ9y5WA=s64",
      "userId": "14936028262101279399"
     },
     "user_tz": -330
    },
    "id": "wPW8Ca60WK4Q",
    "outputId": "b22d9901-4fc0-4a3f-fa7d-5c0c86dffd20"
   },
   "outputs": [
    {
     "data": {
      "image/png": "[encoded data removed]",
      "text/plain": [
       "<IPython.core.display.Image object>"
      ]
     },
     "execution_count": 32,
     "metadata": {
      "tags": []
     },
     "output_type": "execute_result"
    }
   ],
   "source": [
    "from tensorflow.keras.utils import plot_model\n",
    "plot_model(model, 'model.png', show_shapes=True)"
   ]
  },
  {
   "cell_type": "code",
   "execution_count": 33,
   "metadata": {
    "colab": {
     "base_uri": "https://localhost:8080/"
    },
    "executionInfo": {
     "elapsed": 20,
     "status": "ok",
     "timestamp": 1623745427118,
     "user": {
      "displayName": "Nakul Chamariya",
      "photoUrl": "https://lh3.googleusercontent.com/a-/AOh14GiaaA3CEhDPpMN9iKjN0cdb6HXS25MHPJCRZ9y5WA=s64",
      "userId": "14936028262101279399"
     },
     "user_tz": -330
    },
    "id": "-xuFaxJ2WQLB",
    "outputId": "52da9be5-70f5-4deb-b42f-82a75121d212"
   },
   "outputs": [
    {
     "name": "stdout",
     "output_type": "stream",
     "text": [
      "Model: \"sequential\"\n",
      "_________________________________________________________________\n",
      "Layer (type)                 Output Shape              Param #   \n",
      "=================================================================\n",
      "embedding (Embedding)        (None, 125, 300)          15622500  \n",
      "_________________________________________________________________\n",
      "lstm (LSTM)                  (None, 125, 64)           93440     \n",
      "_________________________________________________________________\n",
      "time_distributed (TimeDistri (None, 125, 13)           845       \n",
      "=================================================================\n",
      "Total params: 15,716,785\n",
      "Trainable params: 15,716,785\n",
      "Non-trainable params: 0\n",
      "_________________________________________________________________\n"
     ]
    }
   ],
   "source": [
    "model.summary()"
   ]
  },
  {
   "cell_type": "code",
   "execution_count": 34,
   "metadata": {
    "executionInfo": {
     "elapsed": 3,
     "status": "ok",
     "timestamp": 1623745428419,
     "user": {
      "displayName": "Nakul Chamariya",
      "photoUrl": "https://lh3.googleusercontent.com/a-/AOh14GiaaA3CEhDPpMN9iKjN0cdb6HXS25MHPJCRZ9y5WA=s64",
      "userId": "14936028262101279399"
     },
     "user_tz": -330
    },
    "id": "tzNidW-C4sUH"
   },
   "outputs": [],
   "source": [
    "from sklearn.metrics import confusion_matrix\n",
    "import numpy as np\n",
    "import time\n",
    "\n",
    "def balanced_accuracy(y_true, y_pred):\n",
    "  y_true = y_true.numpy()\n",
    "  y_pred = y_pred.numpy()\n",
    "  y_pred = np.argmax(y_pred,axis=-1)\n",
    "\n",
    "  y_true = y_true.ravel()\n",
    "  y_pred = y_pred.ravel()\n",
    "\n",
    "  #Here we will remove the padded zeroes since they will increase the balanced accuracy\n",
    "  #You can also remove tokens corresponding to punctuation like ',' or '!' since there output is not useful\n",
    "  y_true = np.trim_zeros(y_true, 'f')  \n",
    "  y_pred = y_pred[(y_pred.shape[0] - y_true.shape[0]):]\n",
    "\n",
    "  num_classes = len(np.unique(y_true))\n",
    "\n",
    "  cm = confusion_matrix(y_true, y_pred).T\n",
    "  balanced_accuracy = 0\n",
    "  for i in range(num_classes):\n",
    "    num = cm[i,i]\n",
    "    den = np.sum(cm[:,i])\n",
    "    if num == 0 :\n",
    "      acc = 0\n",
    "    else:\n",
    "      acc = num / den\n",
    "    balanced_accuracy += acc\n",
    "\n",
    "  return (balanced_accuracy / num_classes)"
   ]
  },
  {
   "cell_type": "code",
   "execution_count": 35,
   "metadata": {
    "executionInfo": {
     "elapsed": 3,
     "status": "ok",
     "timestamp": 1623745429398,
     "user": {
      "displayName": "Nakul Chamariya",
      "photoUrl": "https://lh3.googleusercontent.com/a-/AOh14GiaaA3CEhDPpMN9iKjN0cdb6HXS25MHPJCRZ9y5WA=s64",
      "userId": "14936028262101279399"
     },
     "user_tz": -330
    },
    "id": "wgijskVbpoPM"
   },
   "outputs": [],
   "source": [
    "model.compile(optimizer = tf.keras.optimizers.Adam(learning_rate = 0.001), \n",
    "              loss = tf.keras.losses.sparse_categorical_crossentropy, #binary_crossentropy\n",
    "              metrics = balanced_accuracy, run_eagerly=True ) #tf.keras.metrics.CategoricalAccuracy()"
   ]
  },
  {
   "cell_type": "code",
   "execution_count": 36,
   "metadata": {
    "executionInfo": {
     "elapsed": 3,
     "status": "ok",
     "timestamp": 1623745429870,
     "user": {
      "displayName": "Nakul Chamariya",
      "photoUrl": "https://lh3.googleusercontent.com/a-/AOh14GiaaA3CEhDPpMN9iKjN0cdb6HXS25MHPJCRZ9y5WA=s64",
      "userId": "14936028262101279399"
     },
     "user_tz": -330
    },
    "id": "enc8r_uwJ23t"
   },
   "outputs": [],
   "source": [
    "batch_size = 32\n",
    "steps_per_epoch = len(X_train) // batch_size\n",
    "validation_batch_size = 32\n",
    "validation_steps = len(X_test) // validation_batch_size"
   ]
  },
  {
   "cell_type": "code",
   "execution_count": 37,
   "metadata": {
    "executionInfo": {
     "elapsed": 2,
     "status": "ok",
     "timestamp": 1623745430384,
     "user": {
      "displayName": "Nakul Chamariya",
      "photoUrl": "https://lh3.googleusercontent.com/a-/AOh14GiaaA3CEhDPpMN9iKjN0cdb6HXS25MHPJCRZ9y5WA=s64",
      "userId": "14936028262101279399"
     },
     "user_tz": -330
    },
    "id": "jz3wiz1B9WFL"
   },
   "outputs": [],
   "source": [
    "callback = tf.keras.callbacks.EarlyStopping(\n",
    "    monitor='val_balanced_accuracy', min_delta=0, patience=3,\n",
    "    mode='max', baseline=None, restore_best_weights=True\n",
    ")"
   ]
  },
  {
   "cell_type": "code",
   "execution_count": 42,
   "metadata": {
    "colab": {
     "base_uri": "https://localhost:8080/"
    },
    "executionInfo": {
     "elapsed": 1414673,
     "status": "ok",
     "timestamp": 1623749265892,
     "user": {
      "displayName": "Nakul Chamariya",
      "photoUrl": "https://lh3.googleusercontent.com/a-/AOh14GiaaA3CEhDPpMN9iKjN0cdb6HXS25MHPJCRZ9y5WA=s64",
      "userId": "14936028262101279399"
     },
     "user_tz": -330
    },
    "id": "BxPREQdpMOjO",
    "outputId": "b9fedfad-edd8-4b66-c875-ad53c1926b47"
   },
   "outputs": [
    {
     "name": "stdout",
     "output_type": "stream",
     "text": [
      "Results for RNN Classifier:-\n",
      "\n",
      "Epoch 1/2\n",
      "1692/1692 [==============================] - 703s 415ms/step - loss: 0.0105 - balanced_accuracy: 0.9720 - val_loss: 0.0206 - val_balanced_accuracy: 0.9450\n",
      "Epoch 2/2\n",
      "1692/1692 [==============================] - 712s 421ms/step - loss: 0.0085 - balanced_accuracy: 0.9776 - val_loss: 0.0217 - val_balanced_accuracy: 0.9394\n",
      "\n",
      "Training time(sec) =  1414.4132163524628\n"
     ]
    }
   ],
   "source": [
    "print('Results for RNN Classifier:-\\n')\n",
    "start_time = time.time()\n",
    "\n",
    "result = model.fit(X_train, y_train, \n",
    "                   validation_data = (X_test, y_test), \n",
    "                   callbacks=[callback],\n",
    "                   epochs = 2,\n",
    "                   batch_size = batch_size,\n",
    "                   steps_per_epoch = steps_per_epoch, \n",
    "                   validation_batch_size = validation_batch_size,\n",
    "                   validation_steps = validation_steps\n",
    "                   )\n",
    "\n",
    "model_time = (time.time() - start_time)\n",
    "print('\\nTraining time(sec) = ',model_time)\n"
   ]
  },
  {
   "cell_type": "code",
   "execution_count": 43,
   "metadata": {
    "colab": {
     "base_uri": "https://localhost:8080/",
     "height": 281
    },
    "executionInfo": {
     "elapsed": 405,
     "status": "ok",
     "timestamp": 1623749295323,
     "user": {
      "displayName": "Nakul Chamariya",
      "photoUrl": "https://lh3.googleusercontent.com/a-/AOh14GiaaA3CEhDPpMN9iKjN0cdb6HXS25MHPJCRZ9y5WA=s64",
      "userId": "14936028262101279399"
     },
     "user_tz": -330
    },
    "id": "arI4zLK09ORE",
    "outputId": "8f0cf5b1-842d-46c0-8f20-d49fd8caadc4"
   },
   "outputs": [
    {
     "data": {
      "image/png": "[encoded data removed]",
      "text/plain": [
       "<Figure size 432x288 with 1 Axes>"
      ]
     },
     "metadata": {
      "needs_background": "light",
      "tags": []
     },
     "output_type": "display_data"
    }
   ],
   "source": [
    "plt.plot(result.history['loss'] , label = 'train_loss')\n",
    "plt.plot(result.history['val_loss'] , label = 'val_loss')\n",
    "plt.title('Train_loss vs Val_loss')\n",
    "plt.legend()\n",
    "plt.show()"
   ]
  },
  {
   "cell_type": "code",
   "execution_count": 44,
   "metadata": {
    "colab": {
     "base_uri": "https://localhost:8080/",
     "height": 281
    },
    "executionInfo": {
     "elapsed": 650,
     "status": "ok",
     "timestamp": 1623749299684,
     "user": {
      "displayName": "Nakul Chamariya",
      "photoUrl": "https://lh3.googleusercontent.com/a-/AOh14GiaaA3CEhDPpMN9iKjN0cdb6HXS25MHPJCRZ9y5WA=s64",
      "userId": "14936028262101279399"
     },
     "user_tz": -330
    },
    "id": "gM7-O2zi9Oc7",
    "outputId": "6e82a342-84cd-46a9-8263-8c076c1f2f81"
   },
   "outputs": [
    {
     "data": {
      "image/png": "[encoded data removed]",
      "text/plain": [
       "<Figure size 432x288 with 1 Axes>"
      ]
     },
     "metadata": {
      "needs_background": "light",
      "tags": []
     },
     "output_type": "display_data"
    }
   ],
   "source": [
    "plt.plot(result.history['balanced_accuracy'] , label = 'train_balanced_accuracy')\n",
    "plt.plot(result.history['val_balanced_accuracy'] , label = 'val_balanced_accuracy')\n",
    "plt.title('Train_balanced_accuracy vs Val_balanced_accuracy')\n",
    "plt.legend()\n",
    "plt.show()"
   ]
  },
  {
   "cell_type": "code",
   "execution_count": 81,
   "metadata": {
    "colab": {
     "base_uri": "https://localhost:8080/",
     "height": 1000
    },
    "executionInfo": {
     "elapsed": 82678,
     "status": "ok",
     "timestamp": 1623750094569,
     "user": {
      "displayName": "Nakul Chamariya",
      "photoUrl": "https://lh3.googleusercontent.com/a-/AOh14GiaaA3CEhDPpMN9iKjN0cdb6HXS25MHPJCRZ9y5WA=s64",
      "userId": "14936028262101279399"
     },
     "user_tz": -330
    },
    "id": "0LLveNs3AGAt",
    "outputId": "7d1cbe4f-3e87-41a0-bd1f-2dc12e17190e",
    "scrolled": false
   },
   "outputs": [
    {
     "name": "stdout",
     "output_type": "stream",
     "text": [
      "Prediction time(sec) =  4.99218487739563\n",
      "1693/1693 [==============================] - 18s 11ms/step - loss: 0.0000e+00 - balanced_accuracy: 0.0000e+00\n",
      "565/565 [==============================] - 6s 11ms/step - loss: 0.0000e+00 - balanced_accuracy: 0.0000e+00\n",
      "\n",
      "\n",
      "Training score =  0.9815458035652681\n",
      "Tesing score =  0.9364924093308853\n",
      "\n",
      "\n",
      "No of missclassified for class 0 (test data) = 0 \n",
      "No of missclassified for class 1 (test data) = 2976 \n",
      "No of missclassified for class 2 (test data) = 1782 \n",
      "No of missclassified for class 3 (test data) = 15 \n",
      "No of missclassified for class 4 (test data) = 1476 \n",
      "No of missclassified for class 5 (test data) = 808 \n",
      "No of missclassified for class 6 (test data) = 3302 \n",
      "No of missclassified for class 7 (test data) = 1836 \n",
      "No of missclassified for class 8 (test data) = 676 \n",
      "No of missclassified for class 9 (test data) = 57 \n",
      "No of missclassified for class 10 (test data) = 1732 \n",
      "No of missclassified for class 11 (test data) = 626 \n",
      "No of missclassified for class 12 (test data) = 366 \n",
      "Total no of missclassified points(test data) =  15652\n",
      "Total % of missclassified points(test data) =  0.00693679020552878\n",
      "\n",
      "\n",
      "Training log_loss =  0.0\n",
      "Tesing log_loss =  0.0\n",
      "\n",
      "\n",
      "{'padding': 0, 'noun': 1, 'verb': 2, '.': 3, 'adp': 4, 'det': 5, 'adj': 6, 'adv': 7, 'pron': 8, 'conj': 9, 'prt': 10, 'num': 11, 'x': 12}\n",
      "\n",
      "\n",
      "Confusion matrix:\n"
     ]
    },
    {
     "data": {
      "image/png": "[encoded data removed]",
      "text/plain": [
       "<Figure size 1080x1080 with 2 Axes>"
      ]
     },
     "metadata": {
      "needs_background": "light",
      "tags": []
     },
     "output_type": "display_data"
    },
    {
     "name": "stdout",
     "output_type": "stream",
     "text": [
      "\n",
      "\n",
      "Classification report:-\n",
      "\n",
      "              precision    recall  f1-score   support\n",
      "\n",
      "           0       1.00      1.00      1.00   1876984\n",
      "           1       0.95      0.97      0.96     95505\n",
      "           2       0.97      0.97      0.97     58410\n",
      "           3       1.00      1.00      1.00     47698\n",
      "           4       0.94      0.97      0.95     45427\n",
      "           5       0.98      0.98      0.98     42037\n",
      "           6       0.92      0.88      0.90     27020\n",
      "           7       0.93      0.89      0.91     17112\n",
      "           8       0.97      0.95      0.96     14933\n",
      "           9       0.99      1.00      0.99     11722\n",
      "          10       0.88      0.83      0.85     10401\n",
      "          11       0.98      0.91      0.94      7059\n",
      "          12       0.96      0.82      0.89      2067\n",
      "\n",
      "    accuracy                           0.99   2256375\n",
      "   macro avg       0.96      0.94      0.95   2256375\n",
      "weighted avg       0.99      0.99      0.99   2256375\n",
      "\n",
      "**************************************************************************\n"
     ]
    }
   ],
   "source": [
    "def print_results(y_train,y_test):\n",
    "  y_pred1 = model.predict(X_train)\n",
    "  y_pred1 = np.argmax(y_pred1, axis=2)\n",
    "\n",
    "  start_time = time.time()\n",
    "  y_pred = model.predict(X_test)\n",
    "  y_pred = np.argmax(y_pred, axis=2)\n",
    "  model_time2 = (time.time() - start_time)\n",
    "  print('Prediction time(sec) = ',model_time2)\n",
    "\n",
    "  y_train = y_train.ravel()\n",
    "  y_test = y_test.ravel()\n",
    "  y_pred1 = y_pred1.ravel()\n",
    "  y_pred = y_pred.ravel()\n",
    "\n",
    "  cm_model = confusion_matrix(y_test, y_pred)\n",
    "  model_miss = np.sum(y_pred!=y_test.ravel())\n",
    "  acc1_model = balanced_accuracy_score(y_train,y_pred1)\n",
    "  acc2_model = balanced_accuracy_score(y_test,y_pred)\n",
    "\n",
    "  loss1_model = model.evaluate(X_train)[0]\n",
    "  loss2_model = model.evaluate(X_test)[0]\n",
    "\n",
    "  print('\\n\\nTraining score = ',acc1_model)\n",
    "  print('Tesing score = ',acc2_model)\n",
    "  print('\\n')\n",
    "\n",
    "  label = list(tag_tokenizer.word_index.values())\n",
    "  label.insert(0,0)\n",
    "  for i in range(len(np.unique(y_test))):\n",
    "      err = np.sum(cm_model[i])-cm_model[i][i]\n",
    "      print('No of missclassified for class {} (test data) = {} '.format(label[i],err))\n",
    "  print('Total no of missclassified points(test data) = ',model_miss)\n",
    "  print('Total % of missclassified points(test data) = ',model_miss/len(y_test))\n",
    "  print('\\n\\nTraining log_loss = ',loss1_model)\n",
    "  print('Tesing log_loss = ',loss2_model)\n",
    "\n",
    "  print('\\n')\n",
    "  tags = tag_tokenizer.word_index\n",
    "  tags['padding'] = 0\n",
    "  print(dict(sorted(tags.items(), key=lambda x:x[1])))\n",
    "  print('\\n\\nConfusion matrix:')\n",
    "  skplt.metrics.plot_confusion_matrix(y_test, y_pred , figsize = (15,15),normalize=True)\n",
    "  plt.show()\n",
    "  print('\\n\\nClassification report:-\\n')\n",
    "  print(classification_report(y_test,y_pred))\n",
    "  print('**************************************************************************')\n",
    "\n",
    "  # RNN = [acc1_model,acc2_model,model_miss,model_miss/len(y_test),loss1_model,loss2_model,model_time,model_time2]\n",
    "\n",
    "print_results(y_train,y_test)"
   ]
  },
  {
   "cell_type": "code",
   "execution_count": 82,
   "metadata": {
    "colab": {
     "base_uri": "https://localhost:8080/"
    },
    "executionInfo": {
     "elapsed": 359,
     "status": "ok",
     "timestamp": 1623750106298,
     "user": {
      "displayName": "Nakul Chamariya",
      "photoUrl": "https://lh3.googleusercontent.com/a-/AOh14GiaaA3CEhDPpMN9iKjN0cdb6HXS25MHPJCRZ9y5WA=s64",
      "userId": "14936028262101279399"
     },
     "user_tz": -330
    },
    "id": "s91F8-mk2lPC",
    "outputId": "cbdb2154-b056-47c1-abc0-8ee29913a741"
   },
   "outputs": [
    {
     "name": "stdout",
     "output_type": "stream",
     "text": [
      "(54151, 125)\n",
      "(18051, 125)\n"
     ]
    }
   ],
   "source": [
    "print(y_train.shape)\n",
    "print(y_test.shape)"
   ]
  },
  {
   "cell_type": "code",
   "execution_count": 83,
   "metadata": {
    "executionInfo": {
     "elapsed": 341,
     "status": "ok",
     "timestamp": 1623750109464,
     "user": {
      "displayName": "Nakul Chamariya",
      "photoUrl": "https://lh3.googleusercontent.com/a-/AOh14GiaaA3CEhDPpMN9iKjN0cdb6HXS25MHPJCRZ9y5WA=s64",
      "userId": "14936028262101279399"
     },
     "user_tz": -330
    },
    "id": "FDUgvStwcmJ6"
   },
   "outputs": [],
   "source": [
    "import re\n",
    "def text_preprocess(text):\n",
    "  text = re.sub('[^A-Za-z0-9]+', ' ', text)\n",
    "  text = text.rstrip()\n",
    "  text = text.lstrip()\n",
    "  return text"
   ]
  },
  {
   "cell_type": "code",
   "execution_count": 90,
   "metadata": {
    "executionInfo": {
     "elapsed": 349,
     "status": "ok",
     "timestamp": 1623750169162,
     "user": {
      "displayName": "Nakul Chamariya",
      "photoUrl": "https://lh3.googleusercontent.com/a-/AOh14GiaaA3CEhDPpMN9iKjN0cdb6HXS25MHPJCRZ9y5WA=s64",
      "userId": "14936028262101279399"
     },
     "user_tz": -330
    },
    "id": "e8Hb9EPSc74T"
   },
   "outputs": [],
   "source": [
    "def predict(text, max_len, tags_dict, word_tokenizer):\n",
    "\n",
    "  original_text = text\n",
    "  text = text_preprocess(text)\n",
    "  text = text.split(' ')\n",
    "  words = word_tokenizer.texts_to_sequences(text)\n",
    "  words_dict = word_tokenizer.word_index\n",
    "  words_dict = dict([(value, key) for key, value in words_dict.items()])\n",
    "  words = np.array(words)\n",
    "  words = words.ravel()\n",
    "\n",
    "  words = tf.keras.preprocessing.sequence.pad_sequences(\n",
    "    [words], maxlen = max_len, padding = 'pre',\n",
    "    truncating='post', value=0.0 )\n",
    "  \n",
    "  words = np.array(words)\n",
    "  original_words = words\n",
    "\n",
    "  pred = model.predict(words)\n",
    "  pred_prob = np.max(pred,axis=2)\n",
    "  pred = np.argmax(pred,axis=2)\n",
    "\n",
    "  pred = pred.ravel()\n",
    "  pred = np.trim_zeros(pred, 'f')\n",
    "  pred_prob = pred_prob.ravel()\n",
    "  pred_prob = pred_prob[(pred_prob.shape[0] - pred.shape[0]):]\n",
    "  original_words = original_words.ravel()\n",
    "  original_words = np.trim_zeros(original_words, 'f')\n",
    "\n",
    "  output = []\n",
    "  for i in range(len(pred)):\n",
    "    temp = []\n",
    "    if words_dict[original_words[i]] == '<OOV>':\n",
    "      temp.append(text[i])\n",
    "    else:\n",
    "      temp.append(words_dict[original_words[i]])\n",
    "    temp.append(tags_dict[pred[i]])\n",
    "    temp.append(pred_prob[i])\n",
    "    output.append(temp)\n",
    "\n",
    "  return original_text, output\n"
   ]
  },
  {
   "cell_type": "code",
   "execution_count": 91,
   "metadata": {
    "executionInfo": {
     "elapsed": 334,
     "status": "ok",
     "timestamp": 1623750174397,
     "user": {
      "displayName": "Nakul Chamariya",
      "photoUrl": "https://lh3.googleusercontent.com/a-/AOh14GiaaA3CEhDPpMN9iKjN0cdb6HXS25MHPJCRZ9y5WA=s64",
      "userId": "14936028262101279399"
     },
     "user_tz": -330
    },
    "id": "i6T_dxBse-7M"
   },
   "outputs": [],
   "source": [
    "tags_dict = tag_tokenizer.word_index\n",
    "tags_dict = dict([(value, key) for key, value in tags_dict.items()])"
   ]
  },
  {
   "cell_type": "code",
   "execution_count": 95,
   "metadata": {
    "executionInfo": {
     "elapsed": 340,
     "status": "ok",
     "timestamp": 1623750219615,
     "user": {
      "displayName": "Nakul Chamariya",
      "photoUrl": "https://lh3.googleusercontent.com/a-/AOh14GiaaA3CEhDPpMN9iKjN0cdb6HXS25MHPJCRZ9y5WA=s64",
      "userId": "14936028262101279399"
     },
     "user_tz": -330
    },
    "id": "ReriG-ulhAdy"
   },
   "outputs": [],
   "source": [
    "max_len = 125\n",
    "text = 'I like to eat icecream'\n",
    "\n",
    "my_text, output = predict(text, max_len,tags_dict, word_tokenizer)"
   ]
  },
  {
   "cell_type": "code",
   "execution_count": 96,
   "metadata": {
    "colab": {
     "base_uri": "https://localhost:8080/",
     "height": 35
    },
    "executionInfo": {
     "elapsed": 7,
     "status": "ok",
     "timestamp": 1623750221317,
     "user": {
      "displayName": "Nakul Chamariya",
      "photoUrl": "https://lh3.googleusercontent.com/a-/AOh14GiaaA3CEhDPpMN9iKjN0cdb6HXS25MHPJCRZ9y5WA=s64",
      "userId": "14936028262101279399"
     },
     "user_tz": -330
    },
    "id": "3K_9pEycpf1-",
    "outputId": "5acea5b4-555d-4501-ea7d-aad32e813376"
   },
   "outputs": [
    {
     "data": {
      "application/vnd.google.colaboratory.intrinsic+json": {
       "type": "string"
      },
      "text/plain": [
       "'I like to eat icecream'"
      ]
     },
     "execution_count": 96,
     "metadata": {
      "tags": []
     },
     "output_type": "execute_result"
    }
   ],
   "source": [
    "my_text"
   ]
  },
  {
   "cell_type": "code",
   "execution_count": 97,
   "metadata": {
    "colab": {
     "base_uri": "https://localhost:8080/"
    },
    "executionInfo": {
     "elapsed": 339,
     "status": "ok",
     "timestamp": 1623750223774,
     "user": {
      "displayName": "Nakul Chamariya",
      "photoUrl": "https://lh3.googleusercontent.com/a-/AOh14GiaaA3CEhDPpMN9iKjN0cdb6HXS25MHPJCRZ9y5WA=s64",
      "userId": "14936028262101279399"
     },
     "user_tz": -330
    },
    "id": "GwshXyh6phJ6",
    "outputId": "dd0c6a7a-0c80-45f2-dbd8-e55d2d0a6ed9"
   },
   "outputs": [
    {
     "data": {
      "text/plain": [
       "[['i', 'pron', 0.9996369],\n",
       " ['like', 'verb', 0.93804646],\n",
       " ['to', 'prt', 0.9488622],\n",
       " ['eat', 'verb', 0.9999945],\n",
       " ['icecream', 'noun', 0.27760008]]"
      ]
     },
     "execution_count": 97,
     "metadata": {
      "tags": []
     },
     "output_type": "execute_result"
    }
   ],
   "source": [
    "output"
   ]
  },
  {
   "cell_type": "code",
   "execution_count": 98,
   "metadata": {
    "colab": {
     "base_uri": "https://localhost:8080/"
    },
    "executionInfo": {
     "elapsed": 4973,
     "status": "ok",
     "timestamp": 1623750242364,
     "user": {
      "displayName": "Nakul Chamariya",
      "photoUrl": "https://lh3.googleusercontent.com/a-/AOh14GiaaA3CEhDPpMN9iKjN0cdb6HXS25MHPJCRZ9y5WA=s64",
      "userId": "14936028262101279399"
     },
     "user_tz": -330
    },
    "id": "e_kAEuUWX2Bg",
    "outputId": "af0cd994-1ea5-40cf-d2d5-0d1b71afbc0c"
   },
   "outputs": [
    {
     "name": "stderr",
     "output_type": "stream",
     "text": [
      "WARNING:absl:Found untraced functions such as lstm_cell_layer_call_and_return_conditional_losses, lstm_cell_layer_call_fn, lstm_cell_layer_call_fn, lstm_cell_layer_call_and_return_conditional_losses, lstm_cell_layer_call_and_return_conditional_losses while saving (showing 5 of 5). These functions will not be directly callable after loading.\n"
     ]
    },
    {
     "name": "stdout",
     "output_type": "stream",
     "text": [
      "INFO:tensorflow:Assets written to: /content/drive/MyDrive/Dl projects/RNN basics/parts of speech/rnn_pos_model/assets\n"
     ]
    },
    {
     "name": "stderr",
     "output_type": "stream",
     "text": [
      "INFO:tensorflow:Assets written to: /content/drive/MyDrive/Dl projects/RNN basics/parts of speech/rnn_pos_model/assets\n"
     ]
    }
   ],
   "source": [
    "save_path = '/content/drive/MyDrive/Dl projects/RNN basics/parts of speech'\n",
    "model_name = 'rnn_pos_model'\n",
    "model_path = save_path + '/' + model_name\n",
    "model.save(model_path)"
   ]
  },
  {
   "cell_type": "code",
   "execution_count": 100,
   "metadata": {
    "colab": {
     "base_uri": "https://localhost:8080/"
    },
    "executionInfo": {
     "elapsed": 1256,
     "status": "ok",
     "timestamp": 1623750266971,
     "user": {
      "displayName": "Nakul Chamariya",
      "photoUrl": "https://lh3.googleusercontent.com/a-/AOh14GiaaA3CEhDPpMN9iKjN0cdb6HXS25MHPJCRZ9y5WA=s64",
      "userId": "14936028262101279399"
     },
     "user_tz": -330
    },
    "id": "-7rwZe15X2GC",
    "outputId": "88e3c6fc-dc40-4404-850d-f44d1d0840e4"
   },
   "outputs": [
    {
     "name": "stdout",
     "output_type": "stream",
     "text": [
      "/content/drive/MyDrive/Dl projects/RNN basics/parts of speech\n"
     ]
    },
    {
     "data": {
      "text/plain": [
       "['tokenizer.joblib']"
      ]
     },
     "execution_count": 100,
     "metadata": {
      "tags": []
     },
     "output_type": "execute_result"
    }
   ],
   "source": [
    "import os\n",
    "os.chdir(save_path)\n",
    "print(os.getcwd())\n",
    "\n",
    "import joblib\n",
    "joblib.dump(tags_dict , 'tags.joblib')\n",
    "joblib.dump(word_tokenizer , 'tokenizer.joblib')"
   ]
  },
  {
   "cell_type": "code",
   "execution_count": null,
   "metadata": {
    "id": "8okwWUV2X2JH"
   },
   "outputs": [],
   "source": []
  }
 ],
 "metadata": {
  "accelerator": "GPU",
  "colab": {
   "collapsed_sections": [],
   "name": "RNN part of speech tagging.ipynb",
   "provenance": []
  },
  "kernelspec": {
   "display_name": "Python 3",
   "language": "python",
   "name": "python3"
  },
  "language_info": {
   "codemirror_mode": {
    "name": "ipython",
    "version": 3
   },
   "file_extension": ".py",
   "mimetype": "text/x-python",
   "name": "python",
   "nbconvert_exporter": "python",
   "pygments_lexer": "ipython3",
   "version": "3.7.7"
  }
 },
 "nbformat": 4,
 "nbformat_minor": 1
}

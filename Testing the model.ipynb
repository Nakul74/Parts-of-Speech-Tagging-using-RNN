{
 "cells": [
  {
   "cell_type": "code",
   "execution_count": 1,
   "metadata": {
    "colab": {
     "base_uri": "https://localhost:8080/"
    },
    "executionInfo": {
     "elapsed": 1563,
     "status": "ok",
     "timestamp": 1623679621421,
     "user": {
      "displayName": "NAKUL CHAMARIYA",
      "photoUrl": "",
      "userId": "06259338779627162060"
     },
     "user_tz": -330
    },
    "id": "MsGdwX4ukmJg",
    "outputId": "5beb868f-34f8-4051-97ff-eb7c90819a17"
   },
   "outputs": [
    {
     "name": "stdout",
     "output_type": "stream",
     "text": [
      "2.5.0\n"
     ]
    }
   ],
   "source": [
    "import tensorflow as tf\n",
    "print(tf.__version__)"
   ]
  },
  {
   "cell_type": "code",
   "execution_count": 2,
   "metadata": {
    "id": "emknD5Kcqdga"
   },
   "outputs": [],
   "source": [
    "# save_path = '/content/drive/MyDrive/Dl projects/RNN basics/parts of speech'\n",
    "model_name = 'rnn_pos_model'\n",
    "# model_path = save_path + '/' + model_name\n",
    "\n",
    "from sklearn.metrics import confusion_matrix\n",
    "import numpy as np\n",
    "\n",
    "def balanced_accuracy(y_true, y_pred):\n",
    "    y_true = y_true.numpy()\n",
    "    y_pred = y_pred.numpy()\n",
    "    y_pred = np.argmax(y_pred,axis=-1)\n",
    "\n",
    "    y_true = y_true.ravel()\n",
    "    y_pred = y_pred.ravel()\n",
    "\n",
    "  #Here we will remove the padded zeroes since they will increase the balanced accuracy\n",
    "  #You can also remove tokens corresponding to punctuation like ',' or '!' since there output is not useful\n",
    "  \n",
    "    y_true = np.trim_zeros(y_true, 'f')  \n",
    "    y_pred = y_pred[(y_pred.shape[0] - y_true.shape[0]):]\n",
    "\n",
    "    num_classes = len(np.unique(y_true))\n",
    "\n",
    "    cm = confusion_matrix(y_true, y_pred).T\n",
    "    balanced_accuracy = 0\n",
    "    for i in range(num_classes):\n",
    "        num = cm[i,i]\n",
    "        den = np.sum(cm[:,i])\n",
    "        if num == 0 :\n",
    "            acc = 0\n",
    "        else:\n",
    "            acc = num / den\n",
    "        balanced_accuracy += acc\n",
    "\n",
    "    return (balanced_accuracy / num_classes)\n",
    "\n",
    "  \n",
    "model = tf.keras.models.load_model(model_name , custom_objects = {'balanced_accuracy' : balanced_accuracy})"
   ]
  },
  {
   "cell_type": "code",
   "execution_count": 3,
   "metadata": {
    "colab": {
     "base_uri": "https://localhost:8080/"
    },
    "executionInfo": {
     "elapsed": 338,
     "status": "ok",
     "timestamp": 1623679629138,
     "user": {
      "displayName": "NAKUL CHAMARIYA",
      "photoUrl": "",
      "userId": "06259338779627162060"
     },
     "user_tz": -330
    },
    "id": "MyFte3i0REKN",
    "outputId": "83e5dd5d-a43f-482b-a941-fc9d91ef09a2"
   },
   "outputs": [
    {
     "name": "stdout",
     "output_type": "stream",
     "text": [
      "\n",
      "\n",
      "{1: 'noun', 2: 'verb', 3: '.', 4: 'adp', 5: 'det', 6: 'adj', 7: 'adv', 8: 'pron', 9: 'conj', 10: 'prt', 11: 'num', 12: 'x', 0: 'padding'}\n"
     ]
    }
   ],
   "source": [
    "# import os\n",
    "# os.chdir(save_path)\n",
    "# print(os.getcwd())\n",
    "\n",
    "import joblib\n",
    "tags_dict = joblib.load('tags.joblib')\n",
    "word_tokenizer = joblib.load('tokenizer.joblib')\n",
    "\n",
    "print('\\n')\n",
    "print(tags_dict)"
   ]
  },
  {
   "cell_type": "code",
   "execution_count": 4,
   "metadata": {
    "id": "DRF7tbuQq6UG"
   },
   "outputs": [],
   "source": [
    "import re\n",
    "\n",
    "def text_preprocess(text):\n",
    "    text = re.sub('[^A-Za-z0-9]+', ' ', text)\n",
    "    text = text.rstrip()\n",
    "    text = text.lstrip()\n",
    "    return text\n",
    "\n",
    "def predict(text, max_len, tags_dict, word_tokenizer):\n",
    "\n",
    "    original_text = text\n",
    "    text = text_preprocess(text)\n",
    "    text = text.split(' ')\n",
    "    words = word_tokenizer.texts_to_sequences(text)\n",
    "    words_dict = word_tokenizer.word_index\n",
    "    words_dict = dict([(value, key) for key, value in words_dict.items()])\n",
    "    words = np.array(words)\n",
    "    words = words.ravel()\n",
    "\n",
    "    words = tf.keras.preprocessing.sequence.pad_sequences(\n",
    "        [words], maxlen = max_len, padding = 'pre',\n",
    "        truncating='post', value=0.0 )\n",
    "  \n",
    "    words = np.array(words)\n",
    "    original_words = words\n",
    "\n",
    "    pred = model.predict(words)\n",
    "    pred_prob = np.max(pred,axis=2)\n",
    "    pred = np.argmax(pred,axis=2)\n",
    "\n",
    "    pred = pred.ravel()\n",
    "    pred = np.trim_zeros(pred, 'f')\n",
    "    pred_prob = pred_prob.ravel()\n",
    "    pred_prob = pred_prob[(pred_prob.shape[0] - pred.shape[0]):]\n",
    "    original_words = original_words.ravel()\n",
    "    original_words = np.trim_zeros(original_words, 'f')\n",
    "\n",
    "    output = []\n",
    "    for i in range(len(pred)):\n",
    "        temp = []\n",
    "        if words_dict[original_words[i]] == '<OOV>':\n",
    "            temp.append(text[i])\n",
    "        else:\n",
    "            temp.append(words_dict[original_words[i]])\n",
    "        temp.append(tags_dict[pred[i]])\n",
    "        temp.append(pred_prob[i])\n",
    "        output.append(temp)\n",
    "\n",
    "    return original_text, output"
   ]
  },
  {
   "cell_type": "code",
   "execution_count": 5,
   "metadata": {
    "id": "WtHJKAUrq6az"
   },
   "outputs": [],
   "source": [
    "max_len = 125\n",
    "text = 'my favourite movie is spiderman'\n",
    "\n",
    "my_text, output = predict(text, max_len,tags_dict, word_tokenizer)"
   ]
  },
  {
   "cell_type": "code",
   "execution_count": 6,
   "metadata": {
    "id": "BsPu-C2Wq6d-"
   },
   "outputs": [
    {
     "data": {
      "text/plain": [
       "'my favourite movie is spiderman'"
      ]
     },
     "execution_count": 6,
     "metadata": {},
     "output_type": "execute_result"
    }
   ],
   "source": [
    "my_text"
   ]
  },
  {
   "cell_type": "code",
   "execution_count": 7,
   "metadata": {
    "id": "cgKb1yc-rGLJ"
   },
   "outputs": [
    {
     "data": {
      "text/plain": [
       "[['my', 'det', 0.81986964],\n",
       " ['favourite', 'noun', 0.8906837],\n",
       " ['movie', 'noun', 0.9999763],\n",
       " ['is', 'verb', 0.9998092],\n",
       " ['spiderman', 'noun', 0.64835703]]"
      ]
     },
     "execution_count": 7,
     "metadata": {},
     "output_type": "execute_result"
    }
   ],
   "source": [
    "output"
   ]
  },
  {
   "cell_type": "code",
   "execution_count": 8,
   "metadata": {},
   "outputs": [],
   "source": [
    "from pywebio.input import input,TEXT\n",
    "from pywebio.output import put_tabs,put_table"
   ]
  },
  {
   "cell_type": "code",
   "execution_count": 9,
   "metadata": {},
   "outputs": [],
   "source": [
    "def predict_output():\n",
    "    text = input('Parts Of Speech Tagger',placeholder = \"Enter the text\", type = TEXT)\n",
    "    \n",
    "    max_len = 125\n",
    "    text, output = predict(text, max_len,tags_dict, word_tokenizer)\n",
    "    \n",
    "    put_tabs([\n",
    "    {'title': 'Results', 'content': [\n",
    "        put_table(output, header=['Words', 'Tag', 'Probability']) ]},\n",
    "    {'title': 'Input text', 'content': text}\n",
    "    ])"
   ]
  },
  {
   "cell_type": "code",
   "execution_count": 10,
   "metadata": {},
   "outputs": [],
   "source": [
    "predict_output()"
   ]
  },
  {
   "cell_type": "code",
   "execution_count": null,
   "metadata": {},
   "outputs": [],
   "source": []
  }
 ],
 "metadata": {
  "accelerator": "GPU",
  "colab": {
   "collapsed_sections": [],
   "name": "Testing the model.ipynb",
   "provenance": []
  },
  "kernelspec": {
   "display_name": "Python 3",
   "language": "python",
   "name": "python3"
  },
  "language_info": {
   "codemirror_mode": {
    "name": "ipython",
    "version": 3
   },
   "file_extension": ".py",
   "mimetype": "text/x-python",
   "name": "python",
   "nbconvert_exporter": "python",
   "pygments_lexer": "ipython3",
   "version": "3.7.7"
  }
 },
 "nbformat": 4,
 "nbformat_minor": 1
}
